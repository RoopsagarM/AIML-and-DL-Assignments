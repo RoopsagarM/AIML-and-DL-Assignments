{
 "cells": [
  {
   "cell_type": "code",
   "execution_count": 1,
   "id": "1cde1b93",
   "metadata": {},
   "outputs": [
    {
     "name": "stdout",
     "output_type": "stream",
     "text": [
      "Addition : 5\n",
      "Multipication : 6\n"
     ]
    }
   ],
   "source": [
    "def add_num(num1,num2):\n",
    "    return num1+num2\n",
    "def mul_num(num1,num2):\n",
    "    return num1*num2\n",
    "print(\"Addition :\",add_num(2,3))\n",
    "print(\"Multipication :\",mul_num(2,3))"
   ]
  },
  {
   "cell_type": "code",
   "execution_count": null,
   "id": "1e613950",
   "metadata": {},
   "outputs": [],
   "source": [
    "marks = [70,80,77,86,99]\n",
    "def avg_marks(marks):\n",
    "    average_marks = sum(marks)/"
   ]
  }
 ],
 "metadata": {
  "kernelspec": {
   "display_name": "Python 3",
   "language": "python",
   "name": "python3"
  },
  "language_info": {
   "codemirror_mode": {
    "name": "ipython",
    "version": 3
   },
   "file_extension": ".py",
   "mimetype": "text/x-python",
   "name": "python",
   "nbconvert_exporter": "python",
   "pygments_lexer": "ipython3",
   "version": "3.8.8"
  }
 },
 "nbformat": 4,
 "nbformat_minor": 5
}
