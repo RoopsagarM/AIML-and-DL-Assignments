{
 "cells": [
  {
   "cell_type": "code",
   "execution_count": 1,
   "id": "949839c7",
   "metadata": {},
   "outputs": [
    {
     "name": "stdout",
     "output_type": "stream",
     "text": [
      "Addition : 5\n",
      "Multipication : 6\n"
     ]
    }
   ],
   "source": [
    "def add_num(num1,num2):\n",
    "    return num1+num2\n",
    "def mul_num(num1,num2):\n",
    "    return num1*num2\n",
    "print(\"Addition :\",add_num(2,3))\n",
    "print(\"Multipication :\",mul_num(2,3))"
   ]
  },
  {
   "cell_type": "code",
   "execution_count": 18,
   "id": "0f351193",
   "metadata": {},
   "outputs": [
    {
     "name": "stdout",
     "output_type": "stream",
     "text": [
      "82.4\n",
      "B grade\n"
     ]
    }
   ],
   "source": [
    "marks = [70,80,77,86,99]\n",
    "def avg_marks(marks):\n",
    "    average_marks = sum(marks)/len(marks)\n",
    "    return average_marks\n",
    "def grade(marks):\n",
    "    average_marks = sum(marks)/len(marks)\n",
    "    if average_marks >= 91:\n",
    "        print(\"A grade\")\n",
    "    elif average_marks >= 81 and average_marks <=90:\n",
    "        print(\"B grade\")\n",
    "    elif average_marks >= 71 and average_marks <=80:\n",
    "        print(\"c grade\")\n",
    "    elif average_marks >= 61 and average_marks <=70:\n",
    "        print(\"D grade\")\n",
    "        \n",
    "    else:\n",
    "        print(\"E grade\")\n",
    "print(avg_marks(marks))\n",
    "grade(marks)"
   ]
  },
  {
   "cell_type": "code",
   "execution_count": null,
   "id": "6601a62e",
   "metadata": {},
   "outputs": [],
   "source": []
  }
 ],
 "metadata": {
  "kernelspec": {
   "display_name": "Python 3",
   "language": "python",
   "name": "python3"
  },
  "language_info": {
   "codemirror_mode": {
    "name": "ipython",
    "version": 3
   },
   "file_extension": ".py",
   "mimetype": "text/x-python",
   "name": "python",
   "nbconvert_exporter": "python",
   "pygments_lexer": "ipython3",
   "version": "3.8.8"
  }
 },
 "nbformat": 4,
 "nbformat_minor": 5
}
