{
 "cells": [
  {
   "cell_type": "code",
   "execution_count": 4,
   "id": "f09398ee",
   "metadata": {},
   "outputs": [
    {
     "name": "stdout",
     "output_type": "stream",
     "text": [
      "Enter number : 1.2\n",
      "Enter number : 2.3\n",
      "Enter number : 0.3\n",
      "2.3  is greater than 1.2 and 0.3\n"
     ]
    }
   ],
   "source": [
    "num1 = float(input(\"Enter number : \"))\n",
    "num2 = float(input(\"Enter number : \"))\n",
    "num3 = float(input(\"Enter number : \"))\n",
    "if (num1>num2 and num1>num3):\n",
    "    print(num1,\" is greater than\",num2,\"and\",num3)\n",
    "elif (num2>num1 and num2>num3):\n",
    "    print(num2,\" is greater than\",num1,\"and\",num3)\n",
    "else:\n",
    "    print(num3,\" is greater than\",num1,\"and\",num2)"
   ]
  },
  {
   "cell_type": "code",
   "execution_count": null,
   "id": "224f9575",
   "metadata": {},
   "outputs": [],
   "source": []
  }
 ],
 "metadata": {
  "kernelspec": {
   "display_name": "Python 3",
   "language": "python",
   "name": "python3"
  },
  "language_info": {
   "codemirror_mode": {
    "name": "ipython",
    "version": 3
   },
   "file_extension": ".py",
   "mimetype": "text/x-python",
   "name": "python",
   "nbconvert_exporter": "python",
   "pygments_lexer": "ipython3",
   "version": "3.8.8"
  }
 },
 "nbformat": 4,
 "nbformat_minor": 5
}
